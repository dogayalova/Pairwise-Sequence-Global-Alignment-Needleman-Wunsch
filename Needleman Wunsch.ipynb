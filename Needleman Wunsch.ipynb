{
 "cells": [
  {
   "cell_type": "markdown",
   "id": "buried-invention",
   "metadata": {},
   "source": [
    "# CMPE 549: Bioinformatics, Fall 2023\n",
    "## Pairwise Sequence Global Alignment\n",
    "\n"
   ]
  },
  {
   "cell_type": "code",
   "execution_count": null,
   "id": "b65394aa",
   "metadata": {},
   "outputs": [],
   "source": [
    "import random\n",
    "import requests\n",
    "import numpy as np\n",
    "import pandas as pd\n",
    "\n",
    "from Bio.Align import substitution_matrices\n",
    "from Bio import Align"
   ]
  },
  {
   "cell_type": "markdown",
   "id": "united-adult",
   "metadata": {},
   "source": [
    "### Needleman Wunsch (Global Sequence Alignment)"
   ]
  },
  {
   "cell_type": "code",
   "execution_count": null,
   "id": "amino-organization",
   "metadata": {},
   "outputs": [],
   "source": [
    "def needleman_wunsch_algorithm_linear_penalty(seq1, seq2, penalty_params):\n",
    "    \n",
    "    '''\n",
    "    This function has 3 parts: initialisation of the main matrix, filling the main matrix and traceback matrix.\n",
    "\n",
    "    '''\n",
    "#PART 1: INITIALIZATION \n",
    "#Matrix is built with a row and column +1 longer than sequence lengths to start matrix with 0. \n",
    "  \n",
    "    main_matrix = np.zeros((len(seq1)+1, len(seq2)+1))\n",
    "    \n",
    "#Then first row and column is filled with gap penalty scores.\n",
    "\n",
    "    for i in range(1, len(seq1)+1):\n",
    "        main_matrix[i][0] = main_matrix[i-1][0] + penalty_params[\"gap_penalty\"]\n",
    "    for j in range(1, len(seq2)+1):\n",
    "        main_matrix[0][j] = main_matrix[0][j-1] + penalty_params[\"gap_penalty\"]\n",
    "        \n",
    "#PART 2: FILLING        \n",
    "#Matrix should be filled by getting the max value among diagonal,left and top approaches.\n",
    "#Match and mismatch scores are provided from BLOSUM62 Scoring Matrix. Penalty parameters are reached\n",
    "#from the dictionary penalty_params.\n",
    "#Last value of main matrix will give the score, which is main_matrix[-1][-1].\n",
    "\n",
    "    for i in range(1, len(seq1)+1):\n",
    "        for j in range(1, len(seq2)+1):\n",
    "            diagonal_match = main_matrix[i-1][j-1] + penalty_params[\"scoring_matrix\"][seq1[i-1]][seq2[j-1]]\n",
    "            top_linear_gap = main_matrix[i-1][j] + penalty_params[\"gap_penalty\"]\n",
    "            left_linear_gap = main_matrix[i][j-1] + penalty_params[\"gap_penalty\"]\n",
    "            \n",
    "            main_matrix[i][j] = max(diagonal_match, top_linear_gap,left_linear_gap)\n",
    "    \n",
    "    \n",
    "#PART 3: TRACEBACK\n",
    "#To get the aligned sequences, path of the max value should be traced back.\n",
    "#If the current score matches the sum of the last data and its score (or gap is proven),\n",
    "#letter or '-' is appended to the strings seq1_aligned and seq2_aligned, which are \n",
    "#reversed and returned at the end of the function.\n",
    "    \n",
    "    seq1_aligned = \"\"\n",
    "    seq2_aligned = \"\"\n",
    "        \n",
    "    i = len(seq1)\n",
    "    j = len(seq2)\n",
    "\n",
    "#Traceback continues until i and j reaches 0.\n",
    "\n",
    "    while i>0 and j>0:\n",
    "                                                                   \n",
    "        score_diagonal = main_matrix[i-1][j-1]\n",
    "        score_up = main_matrix[i-1][j]\n",
    "        score_left = main_matrix[i][j-1]\n",
    "                                                                    \n",
    "        if main_matrix[i][j] == score_diagonal + penalty_params[\"scoring_matrix\"][seq1[i-1]][seq2[j-1]]:\n",
    "            seq1_aligned+= seq1[i-1]\n",
    "            seq2_aligned+= seq2[j-1]\n",
    "            i = i-1\n",
    "            j = j-1\n",
    "        elif main_matrix[i][j] == score_up + penalty_params[\"gap_penalty\"]:\n",
    "            seq1_aligned+= seq1[i-1]\n",
    "            seq2_aligned+= \"-\"\n",
    "            i = i-1\n",
    "                                         \n",
    "        elif main_matrix[i][j] == score_left + penalty_params[\"gap_penalty\"]:\n",
    "            seq1_aligned+= \"-\"\n",
    "            seq2_aligned+= seq2[j-1]\n",
    "            j =j-1\n",
    "\n",
    "#In the loop above,if i or j is 0 alone, it can exit the loop.\n",
    "#So this is an additional traceback to cover these situations.\n",
    "\n",
    "    while i > 0:\n",
    "        seq1_aligned += seq1[i-1]\n",
    "        seq2_aligned += '-'\n",
    "        i -= 1\n",
    "    while j > 0:\n",
    "        seq1_aligned += '-'\n",
    "        seq2_aligned += seq2[j-1]\n",
    "        j -= 1\n",
    "        \n",
    "#Score and aligned sequences are returned.\n",
    "\n",
    "    return main_matrix[-1,-1],seq1_aligned[::-1]+ \"\\n\" +seq2_aligned[::-1]\n",
    "\n",
    "\n",
    "\n",
    "def needleman_wunsch_algorithm_affine_penalty(seq1, seq2, penalty_params):\n",
    "    \n",
    "    '''\n",
    "    This function has 3 parts: initialisation of middle,lower and upper matrices, filling the matrices \n",
    "    and traceback matrix.\n",
    "    In the affine penalty situation, we consider 3 layers for the matrix and switch between them while filling.\n",
    "    Main level is for diagonal edges.\n",
    "    Lower level is for horizontal edges.\n",
    "    Upper level is for vertical edges. \n",
    "    It also includes gap extension penalty which is different from gap penalty.\n",
    "\n",
    "    '''\n",
    "#PART 1: INITIALIZATION\n",
    "\n",
    "    gap_penalty = penalty_params['gap_penalty']\n",
    "    gap_extension_penalty = penalty_params['gap_extension_penalty']\n",
    "    scoring_matrix = penalty_params['scoring_matrix']\n",
    "    \n",
    "    mid_matrix = np.zeros((len(seq1) + 1, len(seq2) + 1))\n",
    "    lower_matrix = np.zeros((len(seq1) + 1, len(seq2) + 1))\n",
    "    upper_matrix = np.zeros((len(seq1) + 1, len(seq2) + 1))\n",
    "\n",
    "#First Column: Middle and upper matrices are taken as infinity value for first column. Lower matrix is filled\n",
    "#with gap penalty which continues with gap extension penalty throughout the column.\n",
    "\n",
    "    for i in range(1, len(seq1) + 1):\n",
    "        mid_matrix[i, 0] = -float('inf')\n",
    "        lower_matrix[i, 0] = gap_penalty - (i - 1) * gap_extension_penalty\n",
    "        upper_matrix[i, 0] = -float('inf')\n",
    "        \n",
    "#First Row: Middle and lower matrices are taken as infinity value for first row. Upper matrix is filled \n",
    "#with gap penalty which continues with gap extension penalty throughout the row. \n",
    "\n",
    "    for j in range(1, len(seq2) + 1):\n",
    "        mid_matrix[0, j] = -float('inf')\n",
    "        lower_matrix[0, j] = -float('inf')\n",
    "        upper_matrix[0, j] = gap_penalty - (j - 1) * gap_extension_penalty\n",
    "\n",
    "#PART 2: FILLING  \n",
    "#Again, the max value of diagonal,left and top approaches are considered. The switches from lower to middle\n",
    "#or upper to middle has the gap penalty. If the gap occurs in the same layer, it has gap extension penalty.\n",
    "#Match and mismatch scores are provided from BLOSUM62 Scoring Matrix. Penalty parameters are reached\n",
    "#from the dictionary penalty_params.\n",
    "#Last value of middle matrix will give the score, which is mid_matrix[-1][-1].\n",
    "\n",
    "\n",
    "    for i in range(1, len(seq1) + 1):\n",
    "        for j in range(1, len(seq2) + 1):\n",
    "            match_score = mid_matrix[i - 1, j - 1] + scoring_matrix[seq1[i-1]][seq2[j-1]]\n",
    "            lower_matrix[i, j] = max(lower_matrix[i - 1, j] + gap_extension_penalty, mid_matrix[i - 1, j] + gap_penalty)\n",
    "            upper_matrix[i, j] = max(upper_matrix[i, j - 1] + gap_extension_penalty, mid_matrix[i, j - 1] + gap_penalty)\n",
    "            mid_matrix[i, j] = max(match_score, lower_matrix[i, j], upper_matrix[i, j])\n",
    "\n",
    "\n",
    "#PART 3: TRACEBACK\n",
    "#To get the aligned sequences, path of the max value should be traced back.\n",
    "#If the current score matches the sum of the last data and its score (or if the switch between\n",
    "#layers are proven), letter or '-' is appended to the strings seq1_aligned and seq2_aligned, which are \n",
    "#reversed and returned at the end of the function.\n",
    "    \n",
    "    i = len(seq1)\n",
    "    j = len(seq2)\n",
    "    seq1_aligned = \"\"\n",
    "    seq2_aligned = \"\"\n",
    "\n",
    "    while i > 0 or j > 0:\n",
    "        if i > 0 and j > 0 and mid_matrix[i, j] == mid_matrix[i - 1, j - 1] + scoring_matrix[seq1[i-1]][seq2[j-1]]:\n",
    "            seq1_aligned+= seq1[i-1]\n",
    "            seq2_aligned+= seq2[j-1]\n",
    "            i -= 1\n",
    "            j -= 1\n",
    "        elif i > 0 and mid_matrix[i, j] == lower_matrix[i, j]:\n",
    "            seq1_aligned+= seq1[i-1]\n",
    "            seq2_aligned+= '-'\n",
    "            i -= 1\n",
    "        elif j > 0 and mid_matrix[i, j] == upper_matrix[i, j]:\n",
    "            seq1_aligned+= '-'\n",
    "            seq2_aligned+= seq2[j-1]\n",
    "            j -= 1\n",
    "\n",
    "    return mid_matrix[-1, -1], (seq1_aligned[::-1]+\"\\n\"+seq2_aligned[::-1])"
   ]
  },
  {
   "cell_type": "markdown",
   "id": "efb01f1a",
   "metadata": {},
   "source": [
    "### BLOSUM62 Scoring Matrix"
   ]
  },
  {
   "cell_type": "markdown",
   "id": "a103dbdc",
   "metadata": {},
   "source": [
    "Run the cell below to obtain the scoring matrix."
   ]
  },
  {
   "cell_type": "code",
   "execution_count": null,
   "id": "641facb7",
   "metadata": {},
   "outputs": [],
   "source": [
    "resp = requests.get(\n",
    "    \"https://raw.githubusercontent.com/rdpstaff/AlignmentTools/master/src/data/blosum62.txt\"\n",
    ")\n",
    "_scoring_matrix = np.stack(\n",
    "    [\n",
    "        np.fromstring(line[2:].strip(), sep=\" \")\n",
    "        for line in resp.text.split(\"\\n\")\n",
    "        if line and (line[0] not in [\"#\", \" \"])\n",
    "    ]\n",
    ")\n",
    "_amino_acids = resp.text.split(\"\\n\")[6].strip().split(\"  \")\n",
    "\n",
    "\n",
    "scoring_matrix = pd.DataFrame(\n",
    "    _scoring_matrix, index=_amino_acids, columns=_amino_acids, dtype=int\n",
    ")"
   ]
  },
  {
   "cell_type": "markdown",
   "id": "verified-hungarian",
   "metadata": {},
   "source": [
    "### Generic Sequence Alignment Function"
   ]
  },
  {
   "cell_type": "code",
   "execution_count": null,
   "id": "cheap-emission",
   "metadata": {},
   "outputs": [],
   "source": [
    "def align_sequences(seq1, seq2, penalty, penalty_params):\n",
    "    if penalty == \"linear\":\n",
    "        return needleman_wunsch_algorithm_linear_penalty(seq1, seq2, penalty_params)\n",
    "    elif penalty == \"affine\":\n",
    "        return needleman_wunsch_algorithm_affine_penalty(seq1, seq2, penalty_params)\n",
    "    else:\n",
    "        raise NotImplementedError"
   ]
  },
  {
   "cell_type": "markdown",
   "id": "alike-enlargement",
   "metadata": {},
   "source": [
    "### Inputs\n",
    "\n",
    "You can use the functions below to generate sample sequences to test your algorithms. "
   ]
  },
  {
   "cell_type": "code",
   "execution_count": null,
   "id": "close-founder",
   "metadata": {},
   "outputs": [],
   "source": [
    "aminoacids = [\n",
    "    \"A\",\n",
    "    \"R\",\n",
    "    \"N\",\n",
    "    \"D\",\n",
    "    \"C\",\n",
    "    \"Q\",\n",
    "    \"E\",\n",
    "    \"G\",\n",
    "    \"H\",\n",
    "    \"I\",\n",
    "    \"L\",\n",
    "    \"K\",\n",
    "    \"M\",\n",
    "    \"F\",\n",
    "    \"P\",\n",
    "    \"S\",\n",
    "    \"T\",\n",
    "    \"W\",\n",
    "    \"Y\",\n",
    "    \"V\",\n",
    "]\n",
    "\n",
    "\n",
    "def generate_sequence(length=50):\n",
    "    return \"\".join([random.choice(aminoacids) for i in range(length)])\n",
    "\n",
    "\n",
    "def mutate_sequence(seq, n_mutations=10):\n",
    "    seq = list(seq)\n",
    "    pos = {\n",
    "        random.randint(1, len(seq)): random.choice([\"substitute\", \"delete\"])\n",
    "        for i in range(n_mutations)\n",
    "    }\n",
    "    mutated_sequence = \"\"\n",
    "    for ix, aminoacid in enumerate(seq):\n",
    "        if ix in pos:\n",
    "            if pos[ix] == \"substitute\":\n",
    "                mutated_sequence += random.choice(aminoacids)\n",
    "        else:\n",
    "            mutated_sequence += aminoacid\n",
    "    return mutated_sequence\n",
    "\n",
    "\n",
    "sample_sequence = generate_sequence()\n",
    "sequence1 = mutate_sequence(sample_sequence)\n",
    "sequence2 = mutate_sequence(sample_sequence)\n",
    "sequence1, sequence2"
   ]
  },
  {
   "cell_type": "code",
   "execution_count": null,
   "id": "5db20c8f",
   "metadata": {},
   "outputs": [],
   "source": []
  },
  {
   "cell_type": "markdown",
   "id": "injured-worthy",
   "metadata": {},
   "source": [
    "#### Sample 1"
   ]
  },
  {
   "cell_type": "code",
   "execution_count": null,
   "id": "wound-minimum",
   "metadata": {},
   "outputs": [],
   "source": [
    "sample1_sequence1 = \"PLEASANTLY\"\n",
    "sample1_sequence2 = \"MEANLY\""
   ]
  },
  {
   "cell_type": "code",
   "execution_count": null,
   "id": "western-simple",
   "metadata": {},
   "outputs": [],
   "source": [
    "def align_sequences_biopython(seq1, seq2, penalty_params):\n",
    "    aligner = Align.PairwiseAligner()\n",
    "    aligner.substitution_matrix = substitution_matrices.load(\"BLOSUM62\")\n",
    "    if penalty_params[\"penalty_type\"] == \"linear\":\n",
    "        aligner.open_gap_score = penalty_params[\"gap_penalty\"]  # -1\n",
    "        aligner.extend_gap_score = penalty_params[\"gap_penalty\"]  # -1\n",
    "    elif penalty_params[\"penalty_type\"] == \"affine\":\n",
    "        aligner.open_gap_score = penalty_params[\"gap_penalty\"]  # -10\n",
    "        aligner.extend_gap_score = penalty_params[\"gap_extension_penalty\"]  # -1\n",
    "\n",
    "    aligner.mode = \"global\"\n",
    "    for alignment in aligner.align(seq1, seq2):\n",
    "        print(\"Score:\", alignment.score)\n",
    "        print(alignment)"
   ]
  },
  {
   "cell_type": "code",
   "execution_count": null,
   "id": "conventional-witness",
   "metadata": {},
   "outputs": [],
   "source": [
    "align_sequences_biopython(\n",
    "    sample1_sequence1, sample1_sequence2, {\"penalty_type\": \"linear\", \"gap_penalty\": -1}\n",
    ")"
   ]
  },
  {
   "cell_type": "code",
   "execution_count": null,
   "id": "ahead-durham",
   "metadata": {},
   "outputs": [],
   "source": [
    "align_sequences_biopython(\n",
    "    sample1_sequence1,\n",
    "    sample1_sequence2,\n",
    "    {\"penalty_type\": \"affine\", \"gap_penalty\": -10, \"gap_extension_penalty\": -1},\n",
    ")"
   ]
  },
  {
   "cell_type": "markdown",
   "id": "cbad68c0",
   "metadata": {},
   "source": [
    "### Your Output"
   ]
  },
  {
   "cell_type": "markdown",
   "id": "fe5bc482",
   "metadata": {},
   "source": [
    "Please run the cells below to present your final output."
   ]
  },
  {
   "cell_type": "markdown",
   "id": "a302f1a7",
   "metadata": {},
   "source": [
    "#### Test Case 1"
   ]
  },
  {
   "cell_type": "code",
   "execution_count": null,
   "id": "393f12a3",
   "metadata": {},
   "outputs": [],
   "source": [
    "seq1 = \"PRTEINS\"\n",
    "seq2 = \"PRTWPSEIN\""
   ]
  },
  {
   "cell_type": "code",
   "execution_count": null,
   "id": "8d00b577",
   "metadata": {},
   "outputs": [],
   "source": [
    "alignment_score, alignment = align_sequences(\n",
    "    seq1, seq2, \"linear\", {\"scoring_matrix\": scoring_matrix, \"gap_penalty\": -1}\n",
    ")\n",
    "print(alignment_score)\n",
    "print(alignment)"
   ]
  },
  {
   "cell_type": "code",
   "execution_count": null,
   "id": "691b9f0a",
   "metadata": {},
   "outputs": [],
   "source": [
    "alignment_score, alignment = align_sequences(\n",
    "    seq1,\n",
    "    seq2,\n",
    "    \"affine\",\n",
    "    {\"scoring_matrix\": scoring_matrix, \"gap_penalty\": -10, \"gap_extension_penalty\": -1},\n",
    ")\n",
    "print(alignment_score)\n",
    "print(alignment)"
   ]
  }
 ],
 "metadata": {
  "kernelspec": {
   "display_name": "Python 3 (ipykernel)",
   "language": "python",
   "name": "python3"
  },
  "language_info": {
   "codemirror_mode": {
    "name": "ipython",
    "version": 3
   },
   "file_extension": ".py",
   "mimetype": "text/x-python",
   "name": "python",
   "nbconvert_exporter": "python",
   "pygments_lexer": "ipython3",
   "version": "3.11.5"
  },
  "vscode": {
   "interpreter": {
    "hash": "334e94759777c3da5b8a0d438165f334a0a40238f3139ad4907d9f899d5ca59e"
   }
  }
 },
 "nbformat": 4,
 "nbformat_minor": 5
}
